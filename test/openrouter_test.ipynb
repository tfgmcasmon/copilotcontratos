{
 "cells": [
  {
   "cell_type": "code",
   "execution_count": 2,
   "metadata": {},
   "outputs": [],
   "source": [
    "import openai\n",
    "from openai import OpenAIError, OpenAI, AuthenticationError"
   ]
  },
  {
   "cell_type": "code",
   "execution_count": 3,
   "metadata": {},
   "outputs": [],
   "source": [
    "API_KEY = \"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\""
   ]
  },
  {
   "cell_type": "code",
   "execution_count": 7,
   "metadata": {},
   "outputs": [],
   "source": [
    "client = OpenAI(\n",
    "  base_url=\"https://openrouter.ai/api/v1\",\n",
    "  api_key=API_KEY\n",
    ")"
   ]
  },
  {
   "cell_type": "code",
   "execution_count": 25,
   "metadata": {},
   "outputs": [],
   "source": [
    "input_text = input()"
   ]
  },
  {
   "cell_type": "code",
   "execution_count": 26,
   "metadata": {},
   "outputs": [],
   "source": [
    "response = client.chat.completions.create(\n",
    "                model=\"mistralai/mistral-7b-instruct:free\",\n",
    "                messages=[{\n",
    "                    \"role\": \"user\",\n",
    "                    \"content\": input_text,\n",
    "                }]\n",
    "            )"
   ]
  },
  {
   "cell_type": "code",
   "execution_count": 27,
   "metadata": {},
   "outputs": [],
   "source": [
    "respuesta=response.choices[0].message.content"
   ]
  },
  {
   "cell_type": "code",
   "execution_count": 28,
   "metadata": {},
   "outputs": [
    {
     "data": {
      "text/markdown": [
       "Aquí te presento un contrato de venta de finca en Madrid con un precio de 89.022,00 €. Es importante que los interesados en el contrato sean legalmente asesorados para asegurarse de que se entienden los términos y condiciones y que todo se realice de acuerdo con la legislación local y nacional aplicable.\n",
       "\n",
       "**CONTRATO DE VENTA DE FINCA**\n",
       "\n",
       "**PARTE CONTRATANTE:** [Nombre y apellidos del vendedor] (aquí después de leer y firmar)\n",
       "\n",
       "**PARTE OBLIGADA:** [Nombre y apellidos del comprador] (aquí después de leer y firmar)\n",
       "\n",
       "**ARTÍCULO 1 - OBLIGACIÓN DE VENTA**\n",
       "\n",
       "1.1 El vendedor, por esta escritura, se compromete a vender a [nombre y apellidos del comprador] la finca situada en [dirección exacta de la finca] en la ciudad de Madrid, de acuerdo con las características descritas en el apartado siguiente.\n",
       "\n",
       "**ARTÍCULO 2 - DESCRIPCIÓN DE LA FINCA**\n",
       "\n",
       "2.1 La finca es una superficie de terreno urbano de 890,22 m², localizada en [dirección exacta de la finca] en la ciudad de Madrid.\n",
       "\n",
       "2.2 La finca no presenta infracciones ni impedimentos legales, técnicos o de cualquier otro tipo que puedan impidir su libre disfrute.\n",
       "\n",
       "**ARTÍCULO 3 - PRECIO**\n",
       "\n",
       "3.1 El precio de la finca es de 89.022,00 €, incluido IVA y demás gastos que se deben cubrir por el vendedor.\n",
       "\n",
       "**ARTÍCULO 4 - PAGO**\n",
       "\n",
       "4.1 El comprador se compromete a pagar el precio total de la finca en una única ocasión al firmar esta escritura.\n",
       "\n",
       "**ARTÍCULO 5 - ENTREGA DE LA FINCA**\n",
       "\n",
       "5.1 El vendedor se compromete a entregar la finca en su estado actual al momento de la firma de esta escritura.\n",
       "\n",
       "**ARTÍCULO 6 - DERECHOS REALES Y OTRAS INFRACCIONES**\n",
       "\n",
       "6.1 El vendedor se compromete a presentar toda la documentación necesaria para garantizar la libre trasmisión de la finca al comprador.\n",
       "\n",
       "**ARTÍCULO 7 - JURISDICCIÓN Y LEGISLACIÓN APLICABLE**\n",
       "\n",
       "7.1 Todas las cuestiones relacionadas con este contrato se resolverán de acuerdo con la legislación española aplicable en materia de venta de bienes raíces.\n",
       "\n",
       "**ARTÍCULO 8 - DISPOSIiciones ADICIONALES**\n",
       "\n",
       "8.1 Todas las disposiciones adicionales que no se encuentren expresamente mencionadas en este contrato de venta de finca se regirán en todo caso por la legislación aplicable en materia de venta de bienes raíces.\n",
       "\n",
       "**ARTÍCULO 9 - FIRMA Y VALIDEZ**\n",
       "\n",
       "9.1 Para la validación de este contrato, es necesario que cada parte lo firme, lea y entienda su contenido antes de la firma.\n",
       "\n",
       "Fecha: \\_\\_\\_\\_\\_\\_\\_\\_\\_\\_\\_\\_\\_\\_\\_\\_\\_\\_\\_\\_ de \\_\\_\\_\\_\\_\\_\\_\\_\\_\\_\\_\\_\\_\n",
       "\n",
       "(Vendedor) \\_\\_\\_\\_\\_\\_\\_\\_\\_\\_\\_\\_\\_\\_\\_\\_\\_\\_\\_\\_ (Comprador)\n",
       "\n",
       "**NOTA:** Es importante que este contrato sea firmado ante notario público para que sea válido y que todo se realice de acuerdo con la legislación local y nacional aplicable.\n",
       "\n",
       "**RECOMENDACIÓN:** El interesado debe consultar a un abogado especializado en materia de venta de bienes raíces antes de firmar este contrato para asegurarse de que se enti"
      ],
      "text/plain": [
       "<IPython.core.display.Markdown object>"
      ]
     },
     "metadata": {},
     "output_type": "display_data"
    }
   ],
   "source": [
    "from IPython.display import Markdown, display\n",
    " \n",
    "def print_markdown(text):\n",
    "    \"\"\"\n",
    "    Prints a string in Markdown format in a Jupyter Notebook cell.\n",
    "    Parameters:\n",
    "        text (str): The string to display in Markdown format.\n",
    "    \"\"\"\n",
    "    display(Markdown(text))\n",
    "\n",
    "print_markdown(respuesta)"
   ]
  }
 ],
 "metadata": {
  "kernelspec": {
   "display_name": "tfg",
   "language": "python",
   "name": "python3"
  },
  "language_info": {
   "codemirror_mode": {
    "name": "ipython",
    "version": 3
   },
   "file_extension": ".py",
   "mimetype": "text/x-python",
   "name": "python",
   "nbconvert_exporter": "python",
   "pygments_lexer": "ipython3",
   "version": "3.9.20"
  }
 },
 "nbformat": 4,
 "nbformat_minor": 2
}

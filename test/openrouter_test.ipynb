{
 "cells": [
  {
   "cell_type": "code",
   "execution_count": 2,
   "metadata": {},
   "outputs": [],
   "source": [
    "import openai\n",
    "from openai import OpenAIError, OpenAI, AuthenticationError"
   ]
  },
  {
   "cell_type": "code",
   "execution_count": null,
   "metadata": {},
   "outputs": [],
   "source": []
  },
  {
   "cell_type": "code",
   "execution_count": 3,
   "metadata": {},
   "outputs": [],
   "source": [
    "API_KEY = \"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\""
   ]
  },
  {
   "cell_type": "code",
   "execution_count": 7,
   "metadata": {},
   "outputs": [],
   "source": [
    "client = OpenAI(\n",
    "  base_url=\"https://openrouter.ai/api/v1\",\n",
    "  api_key=API_KEY\n",
    ")"
   ]
  },
  {
   "cell_type": "code",
   "execution_count": 25,
   "metadata": {},
   "outputs": [],
   "source": [
    "input_text = input()"
   ]
  },
  {
   "cell_type": "code",
   "execution_count": 26,
   "metadata": {},
   "outputs": [],
   "source": [
    "response = client.chat.completions.create(\n",
    "                model=\"mistralai/mistral-7b-instruct:free\",\n",
    "                messages=[{\n",
    "                    \"role\": \"user\",\n",
    "                    \"content\": input_text,\n",
    "                }]\n",
    "            )"
   ]
  },
  {
   "cell_type": "code",
   "execution_count": 27,
   "metadata": {},
   "outputs": [],
   "source": [
    "respuesta=response.choices[0].message.content"
   ]
  },
  {
   "cell_type": "code",
   "execution_count": 1,
   "metadata": {},
   "outputs": [],
   "source": [
    "import spacy\n",
    "\n",
    "# Carga el modelo de spaCy en español\n",
    "nlp = spacy.load(\"es_core_news_md\")"
   ]
  },
  {
   "cell_type": "code",
   "execution_count": 2,
   "metadata": {},
   "outputs": [],
   "source": [
    "def remove_sensitive_data(text):\n",
    "    \"\"\"\n",
    "    Elimina datos sensibles del texto (DNI, nombres, direcciones, etc.)\n",
    "    \"\"\"\n",
    "    doc = nlp(text)\n",
    "    sanitized_text = text\n",
    "\n",
    "    # Detecta entidades y reemplaza o elimina las sensibles\n",
    "    for ent in doc.ents:\n",
    "        if ent.label_ in [\"PER\", \"LOC\", \"ORG\", \"MISC\"]:  # Nombres, lugares, organizaciones, etc.\n",
    "            sanitized_text = sanitized_text.replace(ent.text, f\"<{ent.label_}>\")\n",
    "\n",
    "        # Opcional: Puedes eliminar directamente la información en lugar de anonimizarla\n",
    "        # sanitized_text = sanitized_text.replace(ent.text, \"\")\n",
    "\n",
    "    return sanitized_text\n"
   ]
  },
  {
   "cell_type": "code",
   "execution_count": 3,
   "metadata": {},
   "outputs": [
    {
     "name": "stdout",
     "output_type": "stream",
     "text": [
      "<PER> vive en <LOC> y su DNI es 12345678Z. Llámalo al 600123456.\n"
     ]
    }
   ],
   "source": [
    "test_text = \"Juan Pérez vive en Madrid y su DNI es 12345678Z. Llámalo al 600123456.\"\n",
    "cleaned_text = remove_sensitive_data(test_text)\n",
    "print(cleaned_text)"
   ]
  },
  {
   "cell_type": "code",
   "execution_count": null,
   "metadata": {},
   "outputs": [],
   "source": []
  },
  {
   "cell_type": "code",
   "execution_count": 28,
   "metadata": {},
   "outputs": [
    {
     "data": {
      "text/markdown": [
       "Aquí te presento un contrato de venta de finca en Madrid con un precio de 89.022,00 €. Es importante que los interesados en el contrato sean legalmente asesorados para asegurarse de que se entienden los términos y condiciones y que todo se realice de acuerdo con la legislación local y nacional aplicable.\n",
       "\n",
       "**CONTRATO DE VENTA DE FINCA**\n",
       "\n",
       "**PARTE CONTRATANTE:** [Nombre y apellidos del vendedor] (aquí después de leer y firmar)\n",
       "\n",
       "**PARTE OBLIGADA:** [Nombre y apellidos del comprador] (aquí después de leer y firmar)\n",
       "\n",
       "**ARTÍCULO 1 - OBLIGACIÓN DE VENTA**\n",
       "\n",
       "1.1 El vendedor, por esta escritura, se compromete a vender a [nombre y apellidos del comprador] la finca situada en [dirección exacta de la finca] en la ciudad de Madrid, de acuerdo con las características descritas en el apartado siguiente.\n",
       "\n",
       "**ARTÍCULO 2 - DESCRIPCIÓN DE LA FINCA**\n",
       "\n",
       "2.1 La finca es una superficie de terreno urbano de 890,22 m², localizada en [dirección exacta de la finca] en la ciudad de Madrid.\n",
       "\n",
       "2.2 La finca no presenta infracciones ni impedimentos legales, técnicos o de cualquier otro tipo que puedan impidir su libre disfrute.\n",
       "\n",
       "**ARTÍCULO 3 - PRECIO**\n",
       "\n",
       "3.1 El precio de la finca es de 89.022,00 €, incluido IVA y demás gastos que se deben cubrir por el vendedor.\n",
       "\n",
       "**ARTÍCULO 4 - PAGO**\n",
       "\n",
       "4.1 El comprador se compromete a pagar el precio total de la finca en una única ocasión al firmar esta escritura.\n",
       "\n",
       "**ARTÍCULO 5 - ENTREGA DE LA FINCA**\n",
       "\n",
       "5.1 El vendedor se compromete a entregar la finca en su estado actual al momento de la firma de esta escritura.\n",
       "\n",
       "**ARTÍCULO 6 - DERECHOS REALES Y OTRAS INFRACCIONES**\n",
       "\n",
       "6.1 El vendedor se compromete a presentar toda la documentación necesaria para garantizar la libre trasmisión de la finca al comprador.\n",
       "\n",
       "**ARTÍCULO 7 - JURISDICCIÓN Y LEGISLACIÓN APLICABLE**\n",
       "\n",
       "7.1 Todas las cuestiones relacionadas con este contrato se resolverán de acuerdo con la legislación española aplicable en materia de venta de bienes raíces.\n",
       "\n",
       "**ARTÍCULO 8 - DISPOSIiciones ADICIONALES**\n",
       "\n",
       "8.1 Todas las disposiciones adicionales que no se encuentren expresamente mencionadas en este contrato de venta de finca se regirán en todo caso por la legislación aplicable en materia de venta de bienes raíces.\n",
       "\n",
       "**ARTÍCULO 9 - FIRMA Y VALIDEZ**\n",
       "\n",
       "9.1 Para la validación de este contrato, es necesario que cada parte lo firme, lea y entienda su contenido antes de la firma.\n",
       "\n",
       "Fecha: \\_\\_\\_\\_\\_\\_\\_\\_\\_\\_\\_\\_\\_\\_\\_\\_\\_\\_\\_\\_ de \\_\\_\\_\\_\\_\\_\\_\\_\\_\\_\\_\\_\\_\n",
       "\n",
       "(Vendedor) \\_\\_\\_\\_\\_\\_\\_\\_\\_\\_\\_\\_\\_\\_\\_\\_\\_\\_\\_\\_ (Comprador)\n",
       "\n",
       "**NOTA:** Es importante que este contrato sea firmado ante notario público para que sea válido y que todo se realice de acuerdo con la legislación local y nacional aplicable.\n",
       "\n",
       "**RECOMENDACIÓN:** El interesado debe consultar a un abogado especializado en materia de venta de bienes raíces antes de firmar este contrato para asegurarse de que se enti"
      ],
      "text/plain": [
       "<IPython.core.display.Markdown object>"
      ]
     },
     "metadata": {},
     "output_type": "display_data"
    }
   ],
   "source": [
    "from IPython.display import Markdown, display\n",
    " \n",
    "def print_markdown(text):\n",
    "    \"\"\"\n",
    "    Prints a string in Markdown format in a Jupyter Notebook cell.\n",
    "    Parameters:\n",
    "        text (str): The string to display in Markdown format.\n",
    "    \"\"\"\n",
    "    display(Markdown(text))\n",
    "\n",
    "print_markdown(respuesta)"
   ]
  },
  {
   "cell_type": "code",
   "execution_count": 11,
   "metadata": {},
   "outputs": [
    {
     "name": "stdout",
     "output_type": "stream",
     "text": [
      "Texto anonimizado: <PER0> vive en <LOC1>. Su número de casa es <TELEFONO3> y su móvil es <TELEFONO4>. También tiene el DNI <DNI2>.\n",
      "Reemplazos: {'<PER0>': 'Juan Pérez', '<LOC1>': 'Madrid', '<DNI2>': '12345678A', '<TELEFONO3>': '912345678', '<TELEFONO4>': '612345678'}\n"
     ]
    }
   ],
   "source": [
    "import re\n",
    "import spacy\n",
    "\n",
    "nlp = spacy.load(\"es_core_news_md\")\n",
    "\n",
    "def replace_pattern(text, pattern, label, replacements):\n",
    "    \"\"\"\n",
    "    Reemplaza un patrón específico en el texto y lo sustituye por una etiqueta anonimizada.\n",
    "    \"\"\"\n",
    "    matches = re.findall(pattern, text)\n",
    "    for match in matches:\n",
    "        key = f\"<{label}{len(replacements)}>\"\n",
    "        replacements[key] = match\n",
    "        text = text.replace(match, key)\n",
    "    return text\n",
    "\n",
    "def anonymize_text(text):\n",
    "    \"\"\"\n",
    "    Anonimiza datos sensibles como nombres, DNI, teléfonos y direcciones en el texto.\n",
    "    \"\"\"\n",
    "    replacements = {}\n",
    "    \n",
    "    # Anonimizar nombres, organizaciones y ubicaciones con spaCy\n",
    "    doc = nlp(text)\n",
    "    for ent in doc.ents:\n",
    "        if ent.label_ in [\"PER\", \"LOC\", \"ORG\"]:\n",
    "            key = f\"<{ent.label_}{len(replacements)}>\"\n",
    "            replacements[key] = ent.text\n",
    "            text = text.replace(ent.text, key)\n",
    "\n",
    "    # Anonimizar DNI (Formato español: 8 números + 1 letra)\n",
    "    text = replace_pattern(text, r'\\b\\d{8}[A-Z]\\b', \"DNI\", replacements)\n",
    "\n",
    "    #  anonimizar cualquier número de teléfono (9+ dígitos seguidos)\n",
    "    text = replace_pattern(text, r'\\b\\d{9,}\\b', \"TELEFONO\", replacements)\n",
    "\n",
    "    # Anonimizar direcciones basadas en palabras clave comunes\n",
    "    residencia_patterns = [\n",
    "        r\"\\b(vive en [\\w\\s,]+)\",\n",
    "        r\"\\b(reside en [\\w\\s,]+)\",\n",
    "        r\"\\b(con domicilio en [\\w\\s,]+)\",\n",
    "        r\"\\b(con residencia en [\\w\\s,]+)\",\n",
    "        r\"\\b(ubicado en [\\w\\s,]+)\",\n",
    "        r\"\\b(situado en [\\w\\s,]+)\",\n",
    "        r\"\\b(domiciliado en [\\w\\s,]+)\",\n",
    "        r\"\\b(se encuentra en [\\w\\s,]+)\"\n",
    "    ]\n",
    "\n",
    "    for pattern in residencia_patterns:\n",
    "        text = replace_pattern(text, pattern, \"DIRECCION\", replacements)\n",
    "\n",
    "    return text, replacements\n",
    "\n",
    "# **Prueba del código**\n",
    "#test_text = \"Juan Pérez vive en Madrid. Su número de casa es 912345678 y su móvil es 612345678. También tiene el DNI 12345678A.\"\n",
    "#anonimized_text, replacements = anonymize_text(test_text)\n",
    "\n",
    "#print(\"Texto anonimizado:\", anonimized_text)\n",
    "#print(\"Reemplazos:\", replacements)\n"
   ]
  },
  {
   "cell_type": "code",
   "execution_count": 10,
   "metadata": {},
   "outputs": [
    {
     "name": "stdout",
     "output_type": "stream",
     "text": [
      "Texto anonimizado: <PER0> vive en <LOC1>. Tiene el DNI <DNI2> y su teléfono es <TELEFONO3>12345<TELEFONO3>78.\n",
      "Reemplazos: {'<PER0>': 'Juan Pérez', '<LOC1>': 'Madrid', '<DNI2>': '12345678A', '<TELEFONO3>': '6'}\n"
     ]
    }
   ],
   "source": [
    "test_text = \"Juan Pérez vive en Madrid. Tiene el DNI 12345678A y su teléfono es 612345678.\"\n",
    "anonimized_text, replacements = anonymize_text(test_text)\n",
    "\n",
    "print(\"Texto anonimizado:\", anonimized_text)\n",
    "print(\"Reemplazos:\", replacements)\n"
   ]
  },
  {
   "cell_type": "code",
   "execution_count": 1,
   "metadata": {},
   "outputs": [],
   "source": [
    "def validar_dni_espanol(dni):\n",
    "    \"\"\"\n",
    "    Verifica si un DNI español es válido (formato y letra).\n",
    "    \"\"\"\n",
    "    dni = dni.strip().upper()\n",
    "    if not re.match(r'^\\d{8}[A-Z]$', dni):\n",
    "        return False\n",
    "\n",
    "    letras = \"TRWAGMYFPDXBNJZSQVHLCKE\"\n",
    "    numero = int(dni[:-1])\n",
    "    letra_correcta = letras[numero % 23]\n",
    "\n",
    "    return dni[-1] == letra_correcta\n"
   ]
  },
  {
   "cell_type": "code",
   "execution_count": 2,
   "metadata": {},
   "outputs": [
    {
     "ename": "NameError",
     "evalue": "name 're' is not defined",
     "output_type": "error",
     "traceback": [
      "\u001b[1;31m---------------------------------------------------------------------------\u001b[0m",
      "\u001b[1;31mNameError\u001b[0m                                 Traceback (most recent call last)",
      "Cell \u001b[1;32mIn[2], line 1\u001b[0m\n\u001b[1;32m----> 1\u001b[0m \u001b[38;5;28mprint\u001b[39m(\u001b[43mvalidar_dni_espanol\u001b[49m\u001b[43m(\u001b[49m\u001b[38;5;124;43m\"\u001b[39;49m\u001b[38;5;124;43m12345678Z\u001b[39;49m\u001b[38;5;124;43m\"\u001b[39;49m\u001b[43m)\u001b[49m)  \u001b[38;5;66;03m# ❌ False\u001b[39;00m\n\u001b[0;32m      2\u001b[0m \u001b[38;5;28mprint\u001b[39m(validar_dni_espanol(\u001b[38;5;124m\"\u001b[39m\u001b[38;5;124m12345678T\u001b[39m\u001b[38;5;124m\"\u001b[39m))  \u001b[38;5;66;03m# ✅ True\u001b[39;00m\n\u001b[0;32m      3\u001b[0m \u001b[38;5;28mprint\u001b[39m(validar_dni_espanol(\u001b[38;5;124m\"\u001b[39m\u001b[38;5;124m87654321P\u001b[39m\u001b[38;5;124m\"\u001b[39m))  \u001b[38;5;66;03m# ✅ True\u001b[39;00m\n",
      "Cell \u001b[1;32mIn[1], line 6\u001b[0m, in \u001b[0;36mvalidar_dni_espanol\u001b[1;34m(dni)\u001b[0m\n\u001b[0;32m      2\u001b[0m \u001b[38;5;250m\u001b[39m\u001b[38;5;124;03m\"\"\"\u001b[39;00m\n\u001b[0;32m      3\u001b[0m \u001b[38;5;124;03mVerifica si un DNI español es válido (formato y letra).\u001b[39;00m\n\u001b[0;32m      4\u001b[0m \u001b[38;5;124;03m\"\"\"\u001b[39;00m\n\u001b[0;32m      5\u001b[0m dni \u001b[38;5;241m=\u001b[39m dni\u001b[38;5;241m.\u001b[39mstrip()\u001b[38;5;241m.\u001b[39mupper()\n\u001b[1;32m----> 6\u001b[0m \u001b[38;5;28;01mif\u001b[39;00m \u001b[38;5;129;01mnot\u001b[39;00m \u001b[43mre\u001b[49m\u001b[38;5;241m.\u001b[39mmatch(\u001b[38;5;124mr\u001b[39m\u001b[38;5;124m'\u001b[39m\u001b[38;5;124m^\u001b[39m\u001b[38;5;124m\\\u001b[39m\u001b[38;5;124md\u001b[39m\u001b[38;5;132;01m{8}\u001b[39;00m\u001b[38;5;124m[A-Z]$\u001b[39m\u001b[38;5;124m'\u001b[39m, dni):\n\u001b[0;32m      7\u001b[0m     \u001b[38;5;28;01mreturn\u001b[39;00m \u001b[38;5;28;01mFalse\u001b[39;00m\n\u001b[0;32m      9\u001b[0m letras \u001b[38;5;241m=\u001b[39m \u001b[38;5;124m\"\u001b[39m\u001b[38;5;124mTRWAGMYFPDXBNJZSQVHLCKE\u001b[39m\u001b[38;5;124m\"\u001b[39m\n",
      "\u001b[1;31mNameError\u001b[0m: name 're' is not defined"
     ]
    }
   ],
   "source": [
    "print(validar_dni_espanol(\"12345678Z\"))  # ❌ False\n",
    "print(validar_dni_espanol(\"12345678T\"))  # ✅ True\n",
    "print(validar_dni_espanol(\"87654321P\"))  # ✅ True\n",
    "print(validar_dni_espanol(\"11111111H\"))  # ✅ True\n"
   ]
  },
  {
   "cell_type": "code",
   "execution_count": 2,
   "metadata": {},
   "outputs": [
    {
     "ename": "NameError",
     "evalue": "name 'os' is not defined",
     "output_type": "error",
     "traceback": [
      "\u001b[1;31m---------------------------------------------------------------------------\u001b[0m",
      "\u001b[1;31mNameError\u001b[0m                                 Traceback (most recent call last)",
      "Cell \u001b[1;32mIn[2], line 4\u001b[0m\n\u001b[0;32m      1\u001b[0m \u001b[38;5;28;01mimport\u001b[39;00m \u001b[38;5;21;01mopenai\u001b[39;00m\n\u001b[0;32m      3\u001b[0m \u001b[38;5;66;03m# Configuración de la API Key\u001b[39;00m\n\u001b[1;32m----> 4\u001b[0m \u001b[38;5;28;01mwith\u001b[39;00m \u001b[38;5;28mopen\u001b[39m(\u001b[43mos\u001b[49m\u001b[38;5;241m.\u001b[39mpath\u001b[38;5;241m.\u001b[39mjoin(os\u001b[38;5;241m.\u001b[39mpath\u001b[38;5;241m.\u001b[39mdirname(\u001b[38;5;18m__file__\u001b[39m), \u001b[38;5;124m'\u001b[39m\u001b[38;5;124m..\u001b[39m\u001b[38;5;124m'\u001b[39m, \u001b[38;5;124m'\u001b[39m\u001b[38;5;124msecrets.json\u001b[39m\u001b[38;5;124m'\u001b[39m), \u001b[38;5;124m'\u001b[39m\u001b[38;5;124mr\u001b[39m\u001b[38;5;124m'\u001b[39m, encoding\u001b[38;5;241m=\u001b[39m\u001b[38;5;124m'\u001b[39m\u001b[38;5;124mutf-8\u001b[39m\u001b[38;5;124m'\u001b[39m) \u001b[38;5;28;01mas\u001b[39;00m file:\n\u001b[0;32m      5\u001b[0m     SECRETS \u001b[38;5;241m=\u001b[39m json\u001b[38;5;241m.\u001b[39mload(file)\n\u001b[0;32m      6\u001b[0m \u001b[38;5;66;03m# Configuración del cliente OpenAI\u001b[39;00m\n",
      "\u001b[1;31mNameError\u001b[0m: name 'os' is not defined"
     ]
    }
   ],
   "source": [
    "import openai\n",
    "\n",
    "# Configuración de la API Key\n",
    "with open(os.path.join(os.path.dirname(__file__), '..', 'secrets.json'), 'r', encoding='utf-8') as file:\n",
    "    SECRETS = json.load(file)\n",
    "# Configuración del cliente OpenAI\n",
    "client = OpenAI(\n",
    "    base_url=\"https://openrouter.ai/api/v1\",\n",
    "    api_key=SECRETS[\"openai_api_key\"],\n",
    ")\n",
    "\n",
    "\n",
    "response = client.chat.completions.create(\n",
    "    model=\"mistralai/mistral-7b-instruct:free\",\n",
    "    messages=[{\"role\": \"user\", \"content\": \"¿Qué es el usufructo?\"}]\n",
    ")\n",
    "\n",
    "print(response)\n"
   ]
  },
  {
   "cell_type": "code",
   "execution_count": 4,
   "metadata": {},
   "outputs": [
    {
     "name": "stdout",
     "output_type": "stream",
     "text": [
      "❌ Error cargando secrets.json: name '__file__' is not defined\n"
     ]
    }
   ],
   "source": [
    "import os\n",
    "try:\n",
    "    with open(os.path.join(os.path.dirname(__file__), '..', 'secrets.json'), 'r', encoding='utf-8') as file:\n",
    "        SECRETS = json.load(file)\n",
    "    print(\"🔐 Clave API cargada correctamente:\", SECRETS.get(\"openai_api_key\")[:5], \"...\")\n",
    "except Exception as e:\n",
    "    print(\"❌ Error cargando secrets.json:\", e)\n"
   ]
  },
  {
   "cell_type": "code",
   "execution_count": 5,
   "metadata": {},
   "outputs": [
    {
     "name": "stdout",
     "output_type": "stream",
     "text": [
      "ChatCompletion(id=None, choices=None, created=None, model=None, object=None, service_tier=None, system_fingerprint=None, usage=None, error={'message': 'Rate limit exceeded: free-models-per-day. Add 10 credits to unlock 1000 free model requests per day', 'code': 429, 'metadata': {'headers': {'X-RateLimit-Limit': '50', 'X-RateLimit-Remaining': '0', 'X-RateLimit-Reset': '1745625600000'}, 'provider_name': None}}, user_id='user_2pm5szsJL4xO0cojp9nHbURtMja')\n"
     ]
    }
   ],
   "source": [
    "from openai import OpenAI\n",
    "\n",
    "client = OpenAI(\n",
    "    base_url=\"https://openrouter.ai/api/v1\",\n",
    "    api_key=\"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\"\n",
    ")\n",
    "\n",
    "response = client.chat.completions.create(\n",
    "    model=\"mistralai/mistral-7b-instruct:free\",\n",
    "    messages=[{\"role\": \"user\", \"content\": \"¿Qué es el usufructo?\"}]\n",
    ")\n",
    "\n",
    "print(response)\n"
   ]
  }
 ],
 "metadata": {
  "kernelspec": {
   "display_name": "tfg",
   "language": "python",
   "name": "python3"
  },
  "language_info": {
   "codemirror_mode": {
    "name": "ipython",
    "version": 3
   },
   "file_extension": ".py",
   "mimetype": "text/x-python",
   "name": "python",
   "nbconvert_exporter": "python",
   "pygments_lexer": "ipython3",
   "version": "3.9.20"
  }
 },
 "nbformat": 4,
 "nbformat_minor": 2
}
